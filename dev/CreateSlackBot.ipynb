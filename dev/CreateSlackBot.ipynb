{
 "cells": [
  {
   "cell_type": "markdown",
   "id": "e25a7991",
   "metadata": {},
   "source": [
    "## 概要\n",
    "\n",
    "AWSのLambdaを使用してSlack Botを作成するためのNotebookです."
   ]
  },
  {
   "cell_type": "code",
   "execution_count": null,
   "id": "df93c5a8",
   "metadata": {},
   "outputs": [],
   "source": []
  },
  {
   "cell_type": "code",
   "execution_count": null,
   "id": "fcaffa47",
   "metadata": {},
   "outputs": [],
   "source": []
  },
  {
   "cell_type": "code",
   "execution_count": null,
   "id": "c3782314",
   "metadata": {},
   "outputs": [],
   "source": []
  }
 ],
 "metadata": {
  "kernelspec": {
   "display_name": "Python 3 (ipykernel)",
   "language": "python",
   "name": "python3"
  },
  "language_info": {
   "codemirror_mode": {
    "name": "ipython",
    "version": 3
   },
   "file_extension": ".py",
   "mimetype": "text/x-python",
   "name": "python",
   "nbconvert_exporter": "python",
   "pygments_lexer": "ipython3",
   "version": "3.10.10"
  }
 },
 "nbformat": 4,
 "nbformat_minor": 5
}
